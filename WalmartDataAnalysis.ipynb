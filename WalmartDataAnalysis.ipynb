{
  "nbformat": 4,
  "nbformat_minor": 0,
  "metadata": {
    "colab": {
      "provenance": []
    },
    "kernelspec": {
      "name": "python3",
      "display_name": "Python 3"
    },
    "language_info": {
      "name": "python"
    }
  },
  "cells": [
    {
      "cell_type": "code",
      "execution_count": 13,
      "metadata": {
        "colab": {
          "base_uri": "https://localhost:8080/"
        },
        "id": "G2AmFZV8VtHS",
        "outputId": "c5bab3de-4fa8-4954-a67a-c6e17409366d"
      },
      "outputs": [
        {
          "output_type": "stream",
          "name": "stdout",
          "text": [
            "Mounted at /content/drive\n"
          ]
        }
      ],
      "source": [
        "#Mounting google drive to colab\n",
        "\n",
        "from google.colab import drive\n",
        "drive.mount('/content/drive')\n",
        "\n",
        "\n",
        "\n",
        "\n"
      ]
    },
    {
      "cell_type": "code",
      "source": [
        "#importing numpy\n",
        "\n",
        "import numpy as np\n",
        "from datetime import datetime"
      ],
      "metadata": {
        "id": "VtUFL-Sv5UxO"
      },
      "execution_count": 21,
      "outputs": []
    },
    {
      "cell_type": "code",
      "source": [
        "#Data Directory setup and loading\n",
        "\n",
        "#& importing pandas for data analysis\n",
        "\n",
        "import pandas as pd\n",
        "from pathlib import Path\n",
        "\n",
        "DATA_DIR = Path(\"/content/drive/MyDrive/Personal projects/Walmart \")\n",
        "OUT_DIR = DATA_DIR.parent / \"Walmart_outputs\"\n",
        "OUT_DIR.mkdir(parents=True, exist_ok=True)\n",
        "\n",
        "train = pd.read_csv(DATA_DIR / \"train.csv\", parse_dates=[\"Date\"])\n",
        "\n",
        "test = pd.read_csv(DATA_DIR / \"test.csv\", parse_dates=[\"Date\"])\n",
        "\n",
        "features = pd.read_csv(DATA_DIR / \"features.csv\", parse_dates=[\"Date\"])\n",
        "\n",
        "stores = pd.read_csv(DATA_DIR / \"stores.csv\")"
      ],
      "metadata": {
        "id": "Eh_f66GT7zqa"
      },
      "execution_count": 22,
      "outputs": []
    },
    {
      "cell_type": "code",
      "source": [
        "#Data Exploration\n",
        "\n",
        "train.columns = train.columns.str.strip()\n",
        "stores.columns = stores.columns.str.strip()\n",
        "features.columns = features.columns.str.strip()\n",
        "\n",
        "# run this line of code to make sure any non numeric value is converted to NaN in weekly sales\n",
        "\n",
        "train[\"Weekly_Sales\"] = pd.to_numeric(train[\"Weekly_Sales\"],errors=\"coerce\")\n",
        "\n",
        "\n",
        "for c in [\"Temperature\",\"Fuel_Price\",\"CPI\",\"Unemployment\",\"MarkDown1\",\"MarkDown2\",\"MarkDown3\",\"MarkDown4\",\"MarkDown5\"]:\n",
        "  if c in features.columns:\n",
        "    features[c] = pd.to_numeric(features[c], errors=\"coerce\")\n",
        "\n",
        "for c in [\"Markdown1\",\"MarkDown2\",\"MarkDown3\",\"MarkDown4\",\"MarkDown5\"]:\n",
        "  if c in features.columns:\n",
        "    features[c] = features[c].fillna(0)\n",
        "\n",
        "\n"
      ],
      "metadata": {
        "id": "KVw8gJ2x8GHx"
      },
      "execution_count": 23,
      "outputs": []
    },
    {
      "cell_type": "code",
      "source": [
        "#time features for grouping\n",
        "\n",
        "for frame in (train,features):\n",
        "  frame[\"Year\"] = frame[\"Date\"].dt.year\n",
        "  frame[\"Month\"] =frame[\"Date\"].dt.month\n",
        "  frame[\"Month_Name\"] = frame[\"Date\"].dt.month_name()\n",
        "  frame[\"Week\"] = frame[\"Date\"].dt.month_name()\n",
        "  frame[\"Week\"] = frame[\"Date\"].dt.isocalendar().week.astype(int)\n",
        "  frame[\"Quarter\"] = frame[\"Date\"].dt.quarter\n",
        "\n",
        "\n",
        "  #Merging sales with external features and store attributes\n",
        "\n",
        "  merged = train.merge(features, on=[\"Store\",\"Date\",\"IsHoliday\"], how=\"left\")\n",
        "  final_data = merged.merge(stores, on=\"Store\", how=\"left\")\n",
        "\n",
        "\n",
        "# BI\n",
        "\n",
        "final_data[\"SalesperSqft\"] = final_data[\"Weekly_Sales\"]/final_data[\"Size\"]\n",
        "md_cols = [c for c in [\"MarkDown1\",\"MarkDown2\",\"MarkDown3\",\"MarkDown4\",\"MarkDown5\"] if c in final_data.columns]\n",
        "final_data[\"Total_Markdowns\"] = final_data[md_cols].fillna(0).sum(axis=1) if md_cols else 0\n",
        "final_data[\"Holiday_Period\"] = final_data[\"IsHoliday\"].map({True : \"Holiday\",False:\"Regular\"}).astype(\"category\")\n"
      ],
      "metadata": {
        "id": "YYfFQD7Wvk-W"
      },
      "execution_count": 27,
      "outputs": []
    },
    {
      "cell_type": "code",
      "source": [
        "#Exporting analysis ready dataset\n",
        "\n",
        "# exporting two files, one with all the cleaned data and then another one for a quick view-metadata\n",
        "\n",
        "final_csv = OUT_DIR/ \"walmart_sales_clean.csv\"\n",
        "final_data.to_csv(final_csv, index = False)\n",
        "\n",
        "data_dictionary = {\n",
        "    \"Store\": \"Store number (1-45)\",\n",
        "    \"Dept\": \"Department number within store\",\n",
        "    \"Date\": \"Week ending date (datetime)\",\n",
        "    \"Weekly_Sales\": \"Weekly sales for store-department\",\n",
        "    \"IsHoliday\": \"Holiday week flag (True/False)\",\n",
        "    \"Temperature\": \"Avg temperature in the week\",\n",
        "    \"Fuel_Price\": \"Regional fuel price\",\n",
        "    \"MarkDown1-5\": \"Anonymized promotional markdowns\",\n",
        "    \"CPI\": \"Consumer Price Index\",\n",
        "    \"Unemployment\": \"Regional unemployment rate\",\n",
        "    \"Type\": \"Store type (A/B/C)\",\n",
        "    \"Size\": \"Store size (sq ft)\",\n",
        "    \"Year\": \"Year extracted from Date\",\n",
        "    \"Month\": \"Month number (1-12)\",\n",
        "    \"Month_Name\": \"Month name\",\n",
        "    \"Week\": \"ISO week number\",\n",
        "    \"Quarter\": \"Quarter (1-4)\",\n",
        "    \"Sales_Per_SqFt\": \"Weekly_Sales / Size\",\n",
        "    \"Total_Markdowns\": \"Sum of MarkDown1..5\",\n",
        "    \"Holiday_Period\": \"Holiday vs Regular label\",\n",
        "}\n",
        "\n",
        "pd.DataFrame(list(data_dictionary.items()), columns =[\"Column\",\"Description\"])\\\n",
        ".to_csv(OUT_DIR / \"data_dictionary.csv\", index = False)"
      ],
      "metadata": {
        "id": "z69xkDndzhzn"
      },
      "execution_count": 30,
      "outputs": []
    }
  ]
}